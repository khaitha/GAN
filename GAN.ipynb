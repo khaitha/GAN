{
 "cells": [
  {
   "cell_type": "code",
   "execution_count": 75,
   "metadata": {},
   "outputs": [],
   "source": [
    "import os \n",
    "import numpy as np\n",
    "import math\n",
    "import matplotlib.pyplot as plt\n",
    "from torchvision.utils import save_image\n",
    "import torchvision.transforms as transforms\n",
    "from torch.utils.data import DataLoader\n",
    "from torchvision import datasets\n",
    "from torch.autograd import Variable\n",
    "\n",
    "import torch.nn as nn\n",
    "import torch.nn.functional as F\n",
    "import torch\n",
    "import time\n"
   ]
  },
  {
   "cell_type": "code",
   "execution_count": 76,
   "metadata": {},
   "outputs": [],
   "source": [
    "img_shape = (1,28,28)"
   ]
  },
  {
   "cell_type": "code",
   "execution_count": 77,
   "metadata": {},
   "outputs": [],
   "source": [
    "class Generator(nn.Module):\n",
    "    def __init__(self):\n",
    "        super(Generator, self).__init__()\n",
    "        def block(input,output,normalize = True):\n",
    "            layers = [nn.Linear(input,output)]\n",
    "            if normalize:\n",
    "                layers.append(nn.BatchNorm1d(output,.8))\n",
    "            layers.append(nn.LeakyReLU(.2,inplace = True))\n",
    "            return layers\n",
    "        \n",
    "        self.model = nn.Sequential(\n",
    "            *block(100,128,normalize = False),\n",
    "            *block(128,256),\n",
    "            *block(256,512),\n",
    "            *block(512,1024),\n",
    "            nn.Linear(1024,int(np.prod(img_shape))),\n",
    "            nn.Tanh()\n",
    "        )\n",
    "    \n",
    "    def forward(self,z):\n",
    "        img = self.model(z)\n",
    "        img = img.view(img.size(0),*img_shape)\n",
    "        return img"
   ]
  },
  {
   "cell_type": "code",
   "execution_count": 78,
   "metadata": {},
   "outputs": [],
   "source": [
    "class Discriminator(nn.Module):\n",
    "    def __init__(self):\n",
    "        super(Discriminator, self).__init__()\n",
    "\n",
    "        def block(input,output):\n",
    "            layers = [nn.Linear(input,output)]\n",
    "            layers.append(nn.LeakyReLU(.2,inplace = True))\n",
    "            return layers\n",
    "        \n",
    "        self.model = nn.Sequential(\n",
    "            *block(int(np.prod(img_shape)),512),\n",
    "            *block(512,256),\n",
    "            *block(256,1),\n",
    "            nn.Sigmoid(),\n",
    "        )\n",
    "    \n",
    "    def forward(self,img):\n",
    "        flatten = img.view(img.size(0),-1)\n",
    "        checker = self.model(flatten)\n",
    "        return checker"
   ]
  },
  {
   "cell_type": "code",
   "execution_count": 79,
   "metadata": {},
   "outputs": [],
   "source": [
    "cuda = True if torch.cuda.is_available() else False\n",
    "device = torch.device('cuda' if torch.cuda.is_available() else 'cpu')\n",
    "loss = torch.nn.BCELoss()\n",
    "generator = Generator()\n",
    "discriminator = Discriminator()\n",
    "\n",
    "if cuda:\n",
    "    generator.cuda()\n",
    "    discriminator.cuda()\n",
    "    loss.cuda()"
   ]
  },
  {
   "cell_type": "code",
   "execution_count": 80,
   "metadata": {},
   "outputs": [],
   "source": [
    "os.makedirs(\"images\",exist_ok = True)\n",
    "dataloader = torch.utils.data.DataLoader(\n",
    "    datasets.MNIST(\n",
    "        \"images\",\n",
    "        train = True,\n",
    "        download = True,\n",
    "        transform = transforms.Compose(\n",
    "            [transforms.ToTensor(),\n",
    "             transforms.Normalize([.5],[.5])]\n",
    "        ),\n",
    "    ),\n",
    "    batch_size = 128,\n",
    "    shuffle = True,\n",
    "    )"
   ]
  },
  {
   "cell_type": "code",
   "execution_count": 81,
   "metadata": {},
   "outputs": [],
   "source": [
    "optimizer_G = torch.optim.AdamW(generator.parameters(),lr = .0002,betas = (.5,.999))\n",
    "optimizer_D = torch.optim.AdamW(discriminator.parameters(),lr = .0002,betas = (.5,.999))"
   ]
  },
  {
   "cell_type": "code",
   "execution_count": null,
   "metadata": {},
   "outputs": [],
   "source": [
    "epoch = 1000\n",
    "for epochs in range(epoch):\n",
    "    for i, (imgs,_) in enumerate(dataloader):\n",
    "\n",
    "        # Ground truths for adversarial\n",
    "        valid = torch.ones((imgs.size(0),1), device=device, requires_grad = False)\n",
    "        fake = torch.zeros((imgs.size(0),1), device=device, requires_grad = False)\n",
    "\n",
    "        # Input images into tensor\n",
    "        real_imgs = imgs.to(device)\n",
    "\n",
    "        # Generator Training, feed rand noise\n",
    "        optimizer_G.zero_grad() \n",
    "        z = torch.randn((imgs.shape[0],100), device=device)\n",
    "\n",
    "        # Generate images passing in the noise z\n",
    "        gen_imgs = generator(z)\n",
    "\n",
    "        # Generators loss, based on the discriminators output\n",
    "        g_loss = loss(discriminator(gen_imgs),valid)\n",
    "\n",
    "        g_loss.backward()\n",
    "        optimizer_G.step()\n",
    "\n",
    "        # Train Discriminator\n",
    "        optimizer_D.zero_grad()\n",
    "\n",
    "        #  Discriminator loss, 1/2 correct + incorrect score\n",
    "        real_loss = loss(discriminator(real_imgs),valid)\n",
    "        fake_loss = loss(discriminator(gen_imgs.detach()),fake)\n",
    "        d_loss = (real_loss + fake_loss)/2\n",
    "\n",
    "        d_loss.backward()\n",
    "        optimizer_D.step()\n",
    "\n",
    "        real_preds = discriminator(real_imgs)\n",
    "        real_acc = torch.mean(((real_preds > 0.5) == valid).float())\n",
    "\n",
    "        fake_preds = discriminator(gen_imgs.detach())\n",
    "        fake_acc = torch.mean(((fake_preds < 0.5) == fake).float())\n",
    "\n",
    "        d_acc = (real_acc + fake_acc) / 2\n",
    "\n",
    "        print(f\"[Epoch {epochs}/{epoch}] [Batch {i}/{len(dataloader)}] \"\n",
    "              f\"[D loss: {d_loss.item():.4f}] [G loss: {g_loss.item():.4f}] \"\n",
    "              f\"[D accuracy: {d_acc.item() * 100:.2f}%]\")\n",
    "\n",
    "\n",
    "        \n",
    "        batches_done = epoch * len(dataloader) + i\n",
    "        if batches_done % 600 == 0:\n",
    "            filename = f\"images/epoch_{epochs}_batch_{i}.png\"\n",
    "            print(f\"Saving image to {filename}\")\n",
    "            save_image(gen_imgs.data[:25], filename, nrow=5, normalize=True)\n",
    "\n"
   ]
  },
  {
   "cell_type": "code",
   "execution_count": null,
   "metadata": {},
   "outputs": [],
   "source": []
  }
 ],
 "metadata": {
  "kernelspec": {
   "display_name": "ganenv",
   "language": "python",
   "name": "python3"
  },
  "language_info": {
   "codemirror_mode": {
    "name": "ipython",
    "version": 3
   },
   "file_extension": ".py",
   "mimetype": "text/x-python",
   "name": "python",
   "nbconvert_exporter": "python",
   "pygments_lexer": "ipython3",
   "version": "3.12.5"
  }
 },
 "nbformat": 4,
 "nbformat_minor": 2
}
