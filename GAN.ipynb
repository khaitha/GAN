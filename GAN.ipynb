{
 "cells": [
  {
   "cell_type": "code",
   "execution_count": 2,
   "metadata": {},
   "outputs": [],
   "source": [
    "import os \n",
    "import numpy as np\n",
    "import math\n",
    "import matplotlib.pyplot as plt\n",
    "from torchvision.utils import save_image\n",
    "import torchvision.transforms as transforms\n",
    "from torch.utils.data import DataLoader\n",
    "from torchvision import datasets\n",
    "from torch.autograd import Variable\n",
    "\n",
    "import torch.nn as nn\n",
    "import torch.nn.functional as F\n",
    "import torch"
   ]
  },
  {
   "cell_type": "code",
   "execution_count": 37,
   "metadata": {},
   "outputs": [],
   "source": [
    "img_shape = (1,28,28)"
   ]
  },
  {
   "cell_type": "code",
   "execution_count": 38,
   "metadata": {},
   "outputs": [],
   "source": [
    "class Generator(nn.Module):\n",
    "    def __init__(self):\n",
    "        super(Generator, self).__init__()\n",
    "        def block(input,output,normalize = True):\n",
    "            layers = [nn.Linear(input,output)]\n",
    "            if normalize:\n",
    "                layers.append(nn.BatchNorm2d(output,.8))\n",
    "            layers.append(nn.LeakyReLU(.2,inplace = True))\n",
    "            return layers\n",
    "        \n",
    "        self.model = nn.Sequential(\n",
    "            *block(100,128,normalize = False),\n",
    "            *block(128,256),\n",
    "            *block(256,512),\n",
    "            *block(512,1024),\n",
    "            nn.Linear(1024,int(np.prod(img_shape))),\n",
    "            nn.Tanh()\n",
    "        )\n",
    "    \n",
    "    def forward(self,z):\n",
    "        img = self.model(z)\n",
    "        img = img.view(img.size(0),*img_shape)\n",
    "        return img"
   ]
  },
  {
   "cell_type": "code",
   "execution_count": 51,
   "metadata": {},
   "outputs": [],
   "source": [
    "class Discriminator(nn.Module):\n",
    "    def __init__(self):\n",
    "        super(Discriminator, self).__init__()\n",
    "\n",
    "        def block(input,output):\n",
    "            layers = [nn.Linear(input,output)]\n",
    "            layers.append(nn.LeakyReLU(.2,inplace = True))\n",
    "            return layers\n",
    "        \n",
    "        self.model = nn.Sequential(\n",
    "            *block(int(np.prod(img_shape)),512),\n",
    "            *block(512,256),\n",
    "            *block(256,1),\n",
    "            nn.Sigmoid(),\n",
    "        )\n",
    "    \n",
    "    def forward(self,img):\n",
    "        flatten = img.view(img.size(0),-1)\n",
    "        checker = self.model(flatten)\n",
    "        return checker"
   ]
  },
  {
   "cell_type": "code",
   "execution_count": 57,
   "metadata": {},
   "outputs": [],
   "source": [
    "cuda = True if torch.cuda.is_available() else False\n",
    "loss = torch.nn.BCELoss()\n",
    "generator = Generator()\n",
    "discriminator = Discriminator()\n",
    "\n",
    "if cuda:\n",
    "    generator.cuda()\n",
    "    discriminator.cuda()\n",
    "    loss.cuda()\n",
    "Tensor = torch.cuda.FloatTensor if cuda else torch.FloatTensor"
   ]
  },
  {
   "cell_type": "code",
   "execution_count": null,
   "metadata": {},
   "outputs": [],
   "source": [
    "os.makedirs(\"images\",exist_ok = True)\n",
    "dataloader = torch.utils.data.DataLoader(\n",
    "    datasets.MNIST(\n",
    "        \"images\",\n",
    "        train = True,\n",
    "        download = True,\n",
    "        transform = transforms.Compose(\n",
    "            [transforms.Resize(28),transforms.ToTensor(),transforms.Normalize([.5],[.5])]\n",
    "        ),\n",
    "    ),\n",
    "    batch_size = 64,\n",
    "    shuffle = True,\n",
    "    )"
   ]
  },
  {
   "cell_type": "code",
   "execution_count": 56,
   "metadata": {},
   "outputs": [],
   "source": [
    "optimizer_G = torch.optim.AdamW(generator.parameters(),lr = .0002,betas = (.5,.999))\n",
    "optimizer_D = torch.optim.AdamW(discriminator.parameters(),lr = .0002,betas = (.5,.999))"
   ]
  },
  {
   "cell_type": "code",
   "execution_count": null,
   "metadata": {},
   "outputs": [],
   "source": [
    "for epochs in range():\n",
    "    for i, (imgs,_) in enumerate(dataloader):\n",
    "\n",
    "        # Ground truths for adversarial\n",
    "        valid = Variable(Tensor(imgs.size(0),1).fill)(1.0,requires_grad = False)\n",
    "        fake = Variable(Tensor(imgs.size(0),1).fill)(0.0,requires_grad = False)\n",
    "\n",
    "        # Input images into tensor\n",
    "        real_imgs = \n"
   ]
  }
 ],
 "metadata": {
  "kernelspec": {
   "display_name": "ganenv",
   "language": "python",
   "name": "python3"
  },
  "language_info": {
   "codemirror_mode": {
    "name": "ipython",
    "version": 3
   },
   "file_extension": ".py",
   "mimetype": "text/x-python",
   "name": "python",
   "nbconvert_exporter": "python",
   "pygments_lexer": "ipython3",
   "version": "3.12.5"
  }
 },
 "nbformat": 4,
 "nbformat_minor": 2
}
